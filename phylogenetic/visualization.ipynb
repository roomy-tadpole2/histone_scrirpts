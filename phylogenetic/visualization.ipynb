{
 "cells": [
  {
   "cell_type": "code",
   "execution_count": 61,
   "metadata": {},
   "outputs": [],
   "source": [
    "from ete3 import Tree, TreeStyle, NodeStyle, TextFace\n",
    "\n",
    "def get_color(id: str):\n",
    "    if (\"H1\" in id): return \"#f02d1f\"\n",
    "    if (\"H2A\" in id): return \"#fa9a0a\"\n",
    "    if (\"H2B\" in id): return \"#d99009\"\n",
    "    if (\"H3\" in id): return \"#9709d9\"\n",
    "    if (\"H4\" in id): return \"#0991eb\"\n",
    "    return \"black\"\n",
    "\n",
    "def tree_visualization(file_path: str, tree_mode, scale=25, topo=False):\n",
    "\n",
    "    with open(file_path, \"r\") as f:\n",
    "        newick_str = f.read().strip()\n",
    "\n",
    "    tree = Tree(newick_str, format=1)\n",
    "\n",
    "    for node in tree.traverse():\n",
    "        nstyle = NodeStyle()\n",
    "        nstyle[\"size\"] = 5  # Adjust node circle size\n",
    "        nstyle[\"fgcolor\"] = \"black\"\n",
    "        nstyle[\"vt_line_width\"] = 2  # Thicker vertical lines\n",
    "        nstyle[\"hz_line_width\"] = 2  # Thicker horizontal lines\n",
    "        node.set_style(nstyle)\n",
    "\n",
    "        if node.is_leaf():\n",
    "            color = get_color(node.name)\n",
    "            name_face = TextFace(node.name, fsize=8, fgcolor=color)\n",
    "            node.add_face(name_face, column=0, position=\"branch-right\")\n",
    "\n",
    "    ts = TreeStyle()\n",
    "    ts.mode = tree_mode  # Circular mode\n",
    "    ts.show_leaf_name = False\n",
    "    ts.branch_vertical_margin = 10  # Adjust branch spacing\n",
    "    ts.scale = scale  # Adjust scale for better readability\n",
    "    ts.show_scale = False\n",
    "    ts.force_topology = topo\n",
    "\n",
    "    tree.show(tree_style=ts)"
   ]
  },
  {
   "cell_type": "code",
   "execution_count": 65,
   "metadata": {},
   "outputs": [],
   "source": [
    "tree_visualization(\"efs_mutant\\\\RAxML_result.efs_mutant\", tree_mode='c', scale=45)"
   ]
  },
  {
   "cell_type": "code",
   "execution_count": 66,
   "metadata": {},
   "outputs": [],
   "source": [
    "tree_visualization(\"WT\\\\RAxML_result.WT\", tree_mode='c', scale=45)"
   ]
  }
 ],
 "metadata": {
  "kernelspec": {
   "display_name": "base",
   "language": "python",
   "name": "python3"
  },
  "language_info": {
   "codemirror_mode": {
    "name": "ipython",
    "version": 3
   },
   "file_extension": ".py",
   "mimetype": "text/x-python",
   "name": "python",
   "nbconvert_exporter": "python",
   "pygments_lexer": "ipython3",
   "version": "3.12.7"
  }
 },
 "nbformat": 4,
 "nbformat_minor": 2
}
