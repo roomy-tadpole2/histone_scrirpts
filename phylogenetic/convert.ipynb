{
 "cells": [
  {
   "cell_type": "code",
   "execution_count": 2,
   "metadata": {},
   "outputs": [],
   "source": [
    "from Bio import AlignIO\n",
    "from clean_name import clean_name\n",
    "\n",
    "def convert(input_file, output_file:str):\n",
    "\n",
    "    alignment = AlignIO.read(input_file, \"fasta\")  \n",
    "\n",
    "    for record in alignment:  \n",
    "        record.id = clean_name(record.id)\n",
    "\n",
    "    AlignIO.write(alignment, output_file, \"phylip\")\n",
    "    print(f\"Converted {input_file} to {output_file}\")"
   ]
  },
  {
   "cell_type": "code",
   "execution_count": 5,
   "metadata": {},
   "outputs": [
    {
     "name": "stdout",
     "output_type": "stream",
     "text": [
      "Converted ..\\sequence_alignment\\efs_mutant_clustalo_result.fasta to efs_mutant.phy\n",
      "Converted ..\\sequence_alignment\\WT_clustalo_result.fasta to WT.phy\n"
     ]
    }
   ],
   "source": [
    "input_file = \"..\\\\sequence_alignment\\\\efs_mutant_clustalo_result.fasta\" \n",
    "output_file = \"efs_mutant.phy\" \n",
    "convert(input_file=input_file, output_file=output_file)\n",
    "\n",
    "input_file = \"..\\\\sequence_alignment\\\\WT_clustalo_result.fasta\" \n",
    "output_file = \"WT.phy\" \n",
    "convert(input_file=input_file, output_file=output_file)"
   ]
  },
  {
   "cell_type": "code",
   "execution_count": 55,
   "metadata": {},
   "outputs": [],
   "source": [
    "import subprocess\n",
    "import random\n",
    "\n",
    "def exec_raxml(input_file, output_folder: str, p = 142857):\n",
    "    # Define the paths to your input and output files  \n",
    "    raxml_executable = \"raxmlHPC.exe\"  # Path to the RAxML executable\n",
    "    output_path = f\"{output_folder}\\\\\"  # Prefix for output files  \n",
    "    substitution_model = \"PROTGAMMAAUTO\"  # Substitution model  \n",
    "    random_seed = random.randint(1, 1000000) \n",
    "\n",
    "    command = [  \n",
    "        raxml_executable,  \n",
    "        \"-s\", f\"..\\\\{input_file}\",  # Input alignment file  \n",
    "        \"-n\", f\"{output_folder}\",  # Output file prefix  \n",
    "        \"-m\", substitution_model,  # Substitution model  \n",
    "        \"-p\", str(random_seed)\n",
    "    ]\n",
    "\n",
    "    # Run the command using subprocess  \n",
    "    try:  \n",
    "        print(f\"Running RAxML with seedd={random_seed} ...\")  \n",
    "        print(f\"output_dir={output_path}\")\n",
    "        result = subprocess.run(command, check=True, text=True, capture_output=True, cwd=output_path)  \n",
    "        print(\"RAxML completed successfully!\")  \n",
    "        # print(\"Standard Output:\\n\", result.stdout)  \n",
    "        # print(\"Standard Error:\\n\", result.stderr) \n",
    "\n",
    "    except subprocess.CalledProcessError as e:  \n",
    "        print(\"Error running RAxML:\")  \n",
    "        print(\"Standard Output:\\n\", e.stdout)  \n",
    "        print(\"Standard Error:\\n\", e.stderr)"
   ]
  },
  {
   "cell_type": "code",
   "execution_count": 56,
   "metadata": {},
   "outputs": [
    {
     "name": "stdout",
     "output_type": "stream",
     "text": [
      "Running RAxML with seedd=391947 ...\n",
      "output_dir=efs_mutant\\\n",
      "RAxML completed successfully!\n",
      "Running RAxML with seedd=145201 ...\n",
      "output_dir=WT\\\n",
      "RAxML completed successfully!\n"
     ]
    }
   ],
   "source": [
    "exec_raxml(input_file=\"efs_mutant.phy\", output_folder=\"efs_mutant\")\n",
    "exec_raxml(input_file=\"WT.phy\", output_folder=\"WT\")"
   ]
  }
 ],
 "metadata": {
  "kernelspec": {
   "display_name": "base",
   "language": "python",
   "name": "python3"
  },
  "language_info": {
   "codemirror_mode": {
    "name": "ipython",
    "version": 3
   },
   "file_extension": ".py",
   "mimetype": "text/x-python",
   "name": "python",
   "nbconvert_exporter": "python",
   "pygments_lexer": "ipython3",
   "version": "3.12.7"
  }
 },
 "nbformat": 4,
 "nbformat_minor": 2
}
