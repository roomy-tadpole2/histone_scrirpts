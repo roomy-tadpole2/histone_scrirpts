{
 "cells": [
  {
   "cell_type": "code",
   "execution_count": 2,
   "metadata": {},
   "outputs": [],
   "source": [
    "import pandas as pd\n",
    "\n",
    "ban_list = [\"deacetylase\", \"methyltransferase\"]\n",
    "\n",
    "def export_fasta(input_file_path, output_filepath: str, data:pd.DataFrame=None):\n",
    "\n",
    "    df = pd.read_csv(input_file_path)\n",
    "    key_word_name = 'histone_name'\n",
    "\n",
    "    with open(output_filepath, \"w\") as f:\n",
    "        # df = df.sort_values(by=key_word_name, ascending = True)\n",
    "\n",
    "        for _, row in df.iterrows():\n",
    "            \n",
    "            skip_flag = False\n",
    "            for ban_key_word in ban_list:\n",
    "                if (ban_key_word in row[key_word_name]):\n",
    "                    skip_flag = True\n",
    "                    break\n",
    "            if (skip_flag): continue\n",
    "\n",
    "            f.write(f\">{row[key_word_name]}\\n{row['sequence']}\\n\")\n"
   ]
  },
  {
   "cell_type": "code",
   "execution_count": 14,
   "metadata": {},
   "outputs": [],
   "source": [
    "export_fasta(\"data\\\\H2A\\\\H2A.csv\", \"data\\\\H2A\\\\H2A.fasta\")"
   ]
  },
  {
   "cell_type": "code",
   "execution_count": 5,
   "metadata": {},
   "outputs": [],
   "source": [
    "export_fasta(\"data\\\\H2B\\\\H2B.csv\", \"data\\\\H2B\\\\H2B.fasta\")"
   ]
  },
  {
   "cell_type": "code",
   "execution_count": 6,
   "metadata": {},
   "outputs": [],
   "source": [
    "export_fasta(\"data\\\\H3\\\\H3.csv\", \"data\\\\H3\\\\H3.fasta\")"
   ]
  },
  {
   "cell_type": "code",
   "execution_count": 5,
   "metadata": {},
   "outputs": [],
   "source": [
    "data_H1 = pd.read_csv(\"data\\\\HON\\\\HON.csv\")\n",
    "data_H2A = pd.read_csv(\"data\\\\H2A\\\\H2A.csv\")\n",
    "data_H2B = pd.read_csv(\"data\\\\H2B\\\\H2B.csv\")\n",
    "data_H3 = pd.read_csv(\"data\\\\H3\\\\H3.csv\")\n",
    "\n",
    "all_ = pd.concat([data_H1,data_H2A,data_H2B,data_H3], ignore_index=True)\n",
    "all_.to_csv(\"data\\\\all\\\\all.csv\", index=False)\n",
    "\n",
    "export_fasta(input_file_path='data\\\\all\\\\all.csv',output_filepath=\"data\\\\all\\\\all.fasta\")"
   ]
  }
 ],
 "metadata": {
  "kernelspec": {
   "display_name": "base",
   "language": "python",
   "name": "python3"
  },
  "language_info": {
   "codemirror_mode": {
    "name": "ipython",
    "version": 3
   },
   "file_extension": ".py",
   "mimetype": "text/x-python",
   "name": "python",
   "nbconvert_exporter": "python",
   "pygments_lexer": "ipython3",
   "version": "3.12.7"
  }
 },
 "nbformat": 4,
 "nbformat_minor": 2
}
