{
 "cells": [
  {
   "cell_type": "code",
   "execution_count": 6,
   "metadata": {},
   "outputs": [
    {
     "name": "stdout",
     "output_type": "stream",
     "text": [
      "Converted all_result.fasta to phy\\all.phy\n"
     ]
    }
   ],
   "source": [
    "from Bio import AlignIO\n",
    "\n",
    "def convert(input_file, output_file:str):\n",
    "\n",
    "    alignment = AlignIO.read(input_file, \"fasta\")  \n",
    "\n",
    "    AlignIO.write(alignment, output_file, \"phylip\")\n",
    "    print(f\"Converted {input_file} to {output_file}\")\n",
    "\n",
    "convert(\"all_result.fasta\", \"phy\\\\all.phy\")"
   ]
  },
  {
   "cell_type": "code",
   "execution_count": null,
   "metadata": {},
   "outputs": [],
   "source": [
    "import subprocess\n",
    "import random\n",
    "\n",
    "def exec_raxml(input_file, output_folder: str, p = 142857):\n",
    "\n",
    "    raxml_executable = \"raxmlHPC.exe\" \n",
    "    output_path = f\"{output_folder}\\\\\" \n",
    "    substitution_model = \"PROTGAMMAAUTO\" \n",
    "    random_seed = random.randint(1, 1000000) \n",
    "\n",
    "    command = [  \n",
    "        raxml_executable,  \n",
    "        \"-s\", f\"{input_file}\",  \n",
    "        \"-n\", \"phylogenetic_result\", \n",
    "        \"-m\", substitution_model, \n",
    "        \"-p\", str(random_seed)\n",
    "    ]\n",
    "\n",
    "    try:  \n",
    "        print(f\"Running RAxML with seedd={random_seed} ...\")  \n",
    "        print(f\"output_dir={output_path}\")\n",
    "        result = subprocess.run(command, check=True, text=True, capture_output=True, cwd=output_path)  \n",
    "        print(\"RAxML completed successfully!\")  \n",
    "        # print(\"Standard Output:\\n\", result.stdout)  \n",
    "        # print(\"Standard Error:\\n\", result.stderr) \n",
    "\n",
    "    except subprocess.CalledProcessError as e:  \n",
    "        print(\"Error running RAxML:\")  \n",
    "        print(\"Standard Output:\\n\", e.stdout)  \n",
    "        print(\"Standard Error:\\n\", e.stderr)"
   ]
  },
  {
   "cell_type": "code",
   "execution_count": 16,
   "metadata": {},
   "outputs": [],
   "source": [
    "from ete3 import Tree, TreeStyle, NodeStyle, TextFace\n",
    "\n",
    "def get_color(name: str):\n",
    "    if ('H2A' in name): return '#CC978E'\n",
    "    if ('HTB' in name): return '#F39C6B'\n",
    "    if ('HTR' in name): return '#FF3864'\n",
    "    return 'black'\n",
    "\n",
    "def tree_visualization(file_path: str, tree_mode, scale=25, topo=False):\n",
    "\n",
    "    with open(file_path, \"r\") as f:\n",
    "        newick_str = f.read().strip()\n",
    "\n",
    "    tree = Tree(newick_str, format=1)\n",
    "\n",
    "    for node in tree.traverse():\n",
    "        nstyle = NodeStyle()\n",
    "        nstyle[\"size\"] = 5  # Adjust node circle size\n",
    "        nstyle[\"fgcolor\"] = \"black\"\n",
    "        nstyle[\"vt_line_width\"] = 2  # Thicker vertical lines\n",
    "        nstyle[\"hz_line_width\"] = 2  # Thicker horizontal lines\n",
    "        node.set_style(nstyle)\n",
    "\n",
    "        if node.is_leaf():\n",
    "            color = get_color(node.name)\n",
    "            name_face = TextFace(node.name, fsize=8, fgcolor=color)\n",
    "            node.add_face(name_face, column=0, position=\"branch-right\")\n",
    "\n",
    "    ts = TreeStyle()\n",
    "    ts.mode = tree_mode  # Circular mode\n",
    "    ts.show_leaf_name = False\n",
    "    ts.branch_vertical_margin = 10  # Adjust branch spacing\n",
    "    ts.scale = scale  # Adjust scale for better readability\n",
    "    ts.show_scale = False\n",
    "    ts.force_topology = topo\n",
    "\n",
    "    tree.show(tree_style=ts)\n",
    "\n",
    "tree_visualization(file_path=\"phy\\\\RAxML_result.phylogenetic_result\",\n",
    "                   tree_mode='r', scale=45)"
   ]
  },
  {
   "cell_type": "code",
   "execution_count": 10,
   "metadata": {},
   "outputs": [
    {
     "name": "stdout",
     "output_type": "stream",
     "text": [
      "Running RAxML with seedd=939432 ...\n",
      "output_dir=phy\\\n",
      "RAxML completed successfully!\n"
     ]
    }
   ],
   "source": [
    "exec_raxml(input_file=\"all.phy\", output_folder=\"phy\")"
   ]
  }
 ],
 "metadata": {
  "kernelspec": {
   "display_name": "base",
   "language": "python",
   "name": "python3"
  },
  "language_info": {
   "codemirror_mode": {
    "name": "ipython",
    "version": 3
   },
   "file_extension": ".py",
   "mimetype": "text/x-python",
   "name": "python",
   "nbconvert_exporter": "python",
   "pygments_lexer": "ipython3",
   "version": "3.12.7"
  }
 },
 "nbformat": 4,
 "nbformat_minor": 2
}
