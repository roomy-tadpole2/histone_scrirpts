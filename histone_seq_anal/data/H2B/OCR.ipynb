{
 "cells": [
  {
   "cell_type": "code",
   "execution_count": 4,
   "metadata": {},
   "outputs": [
    {
     "name": "stdout",
     "output_type": "stream",
     "text": [
      "Extracted Text:\n",
      "HTB7 / At3g09480 | e C 1800\n",
      "\n",
      "1600\n",
      "HTB10 / At5g02570 Class Il soo ihenves\n",
      "HTB6 / At3g53650 B - = Protoplasts\n",
      "HTBS5 / At2g37470 ae\n",
      "© 1000\n",
      "HTB11 / At3g46030 S\n",
      "® 800\n",
      "HTB9 / At3g45980 | |-A 4\n",
      "600\n",
      "HTB4 / AtSg59910 i\n",
      "Class | 400\n",
      "HTB1 / At1g07790\n",
      "I-B 200 i\n",
      "HTB2 / AtSg22880 ; i. I. il. r\n",
      "HTB3 / At2g28720 589838228385 Be\n",
      "me ie FEFEEREEEE ESR\n",
      "HTB8 / At1g08170 |] Class III =i = rc =\n",
      "\n",
      "Class | Class II/III\n",
      "\n"
     ]
    }
   ],
   "source": [
    "from PIL import Image  \n",
    "import pytesseract  \n",
    "\n",
    "# Path to the Tesseract-OCR executable (update this path if necessary)  \n",
    "# For Windows, you need to install Tesseract and provide the path to the executable  \n",
    "# Example: r\"C:\\Program Files\\Tesseract-OCR\\tesseract.exe\"  \n",
    "pytesseract.pytesseract.tesseract_cmd = r\"C:/Program Files/Tesseract-OCR/tesseract\"  # Update for your system  \n",
    "\n",
    "# Load the image  \n",
    "image_path = \"image.png\"  # Replace with your image file path  \n",
    "image = Image.open(image_path)  \n",
    "\n",
    "# Perform OCR  \n",
    "text = pytesseract.image_to_string(image)  \n",
    "\n",
    "# Print the extracted text  \n",
    "print(\"Extracted Text:\")  \n",
    "print(text)"
   ]
  }
 ],
 "metadata": {
  "kernelspec": {
   "display_name": "base",
   "language": "python",
   "name": "python3"
  },
  "language_info": {
   "codemirror_mode": {
    "name": "ipython",
    "version": 3
   },
   "file_extension": ".py",
   "mimetype": "text/x-python",
   "name": "python",
   "nbconvert_exporter": "python",
   "pygments_lexer": "ipython3",
   "version": "3.12.4"
  }
 },
 "nbformat": 4,
 "nbformat_minor": 2
}
