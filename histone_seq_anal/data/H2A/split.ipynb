{
 "cells": [
  {
   "cell_type": "code",
   "execution_count": 1,
   "metadata": {},
   "outputs": [
    {
     "data": {
      "text/html": [
       "<div>\n",
       "<style scoped>\n",
       "    .dataframe tbody tr th:only-of-type {\n",
       "        vertical-align: middle;\n",
       "    }\n",
       "\n",
       "    .dataframe tbody tr th {\n",
       "        vertical-align: top;\n",
       "    }\n",
       "\n",
       "    .dataframe thead th {\n",
       "        text-align: right;\n",
       "    }\n",
       "</style>\n",
       "<table border=\"1\" class=\"dataframe\">\n",
       "  <thead>\n",
       "    <tr style=\"text-align: right;\">\n",
       "      <th></th>\n",
       "      <th>Species/Abbrv</th>\n",
       "    </tr>\n",
       "  </thead>\n",
       "  <tbody>\n",
       "    <tr>\n",
       "      <th>0</th>\n",
       "      <td>H2A1_ATSG54640.1</td>\n",
       "    </tr>\n",
       "    <tr>\n",
       "      <th>1</th>\n",
       "      <td>H2A.10_AT1G51060.1</td>\n",
       "    </tr>\n",
       "    <tr>\n",
       "      <th>2</th>\n",
       "      <td>H2A 13_AT3G20670.1</td>\n",
       "    </tr>\n",
       "    <tr>\n",
       "      <th>3</th>\n",
       "      <td>H2A2_AT4G27230.1</td>\n",
       "    </tr>\n",
       "    <tr>\n",
       "      <th>4</th>\n",
       "      <td>H2AW.12_AT5G02560.2</td>\n",
       "    </tr>\n",
       "    <tr>\n",
       "      <th>5</th>\n",
       "      <td>H2AW.6_ATSG59870.1</td>\n",
       "    </tr>\n",
       "    <tr>\n",
       "      <th>6</th>\n",
       "      <td>H2AW.7_ATSG27670.1</td>\n",
       "    </tr>\n",
       "    <tr>\n",
       "      <th>7</th>\n",
       "      <td>H2AX3_AT1G54690.1</td>\n",
       "    </tr>\n",
       "    <tr>\n",
       "      <th>8</th>\n",
       "      <td>H2AX.5_AT1G08880.1</td>\n",
       "    </tr>\n",
       "    <tr>\n",
       "      <th>9</th>\n",
       "      <td>H2AZ.11_AT3G54560.1</td>\n",
       "    </tr>\n",
       "    <tr>\n",
       "      <th>10</th>\n",
       "      <td>H2AZ.8_AT2G38810.1</td>\n",
       "    </tr>\n",
       "    <tr>\n",
       "      <th>11</th>\n",
       "      <td>H2AZ.9_AT1G52740.1</td>\n",
       "    </tr>\n",
       "    <tr>\n",
       "      <th>12</th>\n",
       "      <td>H2A4_AT4G13570.2</td>\n",
       "    </tr>\n",
       "  </tbody>\n",
       "</table>\n",
       "</div>"
      ],
      "text/plain": [
       "          Species/Abbrv\n",
       "0      H2A1_ATSG54640.1\n",
       "1    H2A.10_AT1G51060.1\n",
       "2    H2A 13_AT3G20670.1\n",
       "3      H2A2_AT4G27230.1\n",
       "4   H2AW.12_AT5G02560.2\n",
       "5    H2AW.6_ATSG59870.1\n",
       "6    H2AW.7_ATSG27670.1\n",
       "7     H2AX3_AT1G54690.1\n",
       "8    H2AX.5_AT1G08880.1\n",
       "9   H2AZ.11_AT3G54560.1\n",
       "10   H2AZ.8_AT2G38810.1\n",
       "11   H2AZ.9_AT1G52740.1\n",
       "12     H2A4_AT4G13570.2"
      ]
     },
     "metadata": {},
     "output_type": "display_data"
    }
   ],
   "source": [
    "import pandas as pd\n",
    "\n",
    "H2A_data = pd.read_csv(\"H2A_OCR.csv\")\n",
    "\n",
    "display(H2A_data)"
   ]
  },
  {
   "cell_type": "code",
   "execution_count": 9,
   "metadata": {},
   "outputs": [],
   "source": [
    "histone_name = []\n",
    "locus = []\n",
    "\n",
    "for index,row in H2A_data.iterrows():\n",
    "    str_complex_list = row.iloc[0].split('_')\n",
    "    histone_name.append(str_complex_list[0])\n",
    "    locus.append(str_complex_list[1])\n",
    "\n",
    "H2A_data_new = pd.DataFrame(data={'histone_name':histone_name,\n",
    "                                  'locus':locus})\n",
    "H2A_data_new.to_csv(\"H2A.csv\", index=False)"
   ]
  }
 ],
 "metadata": {
  "kernelspec": {
   "display_name": "base",
   "language": "python",
   "name": "python3"
  },
  "language_info": {
   "codemirror_mode": {
    "name": "ipython",
    "version": 3
   },
   "file_extension": ".py",
   "mimetype": "text/x-python",
   "name": "python",
   "nbconvert_exporter": "python",
   "pygments_lexer": "ipython3",
   "version": "3.12.4"
  }
 },
 "nbformat": 4,
 "nbformat_minor": 2
}
