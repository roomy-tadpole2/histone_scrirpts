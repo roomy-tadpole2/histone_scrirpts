{
 "cells": [
  {
   "cell_type": "code",
   "execution_count": 1,
   "metadata": {},
   "outputs": [],
   "source": [
    "from uniprot_fetch import fetch"
   ]
  },
  {
   "cell_type": "code",
   "execution_count": 2,
   "metadata": {},
   "outputs": [],
   "source": [
    "import pandas as pd\n",
    "\n",
    "def parse(file_name: str):\n",
    "\n",
    "    data = pd.read_csv(f\"data\\\\{file_name}\\\\{file_name}.csv\")\n",
    "    data['sequence'] = None\n",
    "    for index, row in data.iterrows():\n",
    "        # print(index, row['locus'])\n",
    "        # print(data.loc[index, 'sequence'])\n",
    "        fetch_result = fetch(row['locus'])\n",
    "        data.loc[index, 'sequence'] = fetch_result.get(\"Protein Sequence\", None)\n",
    "\n",
    "    if (\"Unnamed: 0\" in data.columns): data.drop(columns=\"Unnamed: 0\", inplace=True)\n",
    "    data.to_csv(f\"data\\\\{file_name}\\\\{file_name}.csv\", index=False)\n",
    "\n",
    "parse(\"H2A\")"
   ]
  },
  {
   "cell_type": "code",
   "execution_count": 3,
   "metadata": {},
   "outputs": [],
   "source": [
    "parse(\"H2B\")"
   ]
  },
  {
   "cell_type": "code",
   "execution_count": 4,
   "metadata": {},
   "outputs": [],
   "source": [
    "parse(\"H3\")"
   ]
  }
 ],
 "metadata": {
  "kernelspec": {
   "display_name": "base",
   "language": "python",
   "name": "python3"
  },
  "language_info": {
   "codemirror_mode": {
    "name": "ipython",
    "version": 3
   },
   "file_extension": ".py",
   "mimetype": "text/x-python",
   "name": "python",
   "nbconvert_exporter": "python",
   "pygments_lexer": "ipython3",
   "version": "3.12.7"
  }
 },
 "nbformat": 4,
 "nbformat_minor": 2
}
