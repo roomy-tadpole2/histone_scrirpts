{
 "cells": [
  {
   "cell_type": "code",
   "execution_count": 9,
   "metadata": {},
   "outputs": [
    {
     "name": "stdout",
     "output_type": "stream",
     "text": [
      "Protein Sequence:\n",
      "MEADESGISLPSGPDGRKRRVSYFYEPTIGDYYYGQGHPMKPHRIRMAHSLIIHYHLHRRLEISRPSLADASDIGRFHSPEYVDFLASVSPESMGDPSAARNLRRFNVGEDCPVFDGLFDFCRASAGGSIGAAVKLNRQDADIAINWGGGLHHAKKSEASGFCYVNDIVLGILELLKMFKRVLYIDIDVHHGDGVEEAFYTTDRVMTVSFHKFGDFFPGTGHIRDVGAEKGKYYALNVPLNDGMDDESFRSLFRPLIQKVMEVYQPEAVVLQCGADSLSGDRLGCFNLSVKGHADCLRFLRSYNVPLMVLGGGGYTIRNVARCWCYETAVAVGVEPDNKLPYNEYFEYFGPDYTLHVDPSPMENLNTPKDMERIRNTLLEQLSGLIHAPSVQFQHTPPVNRVLDEPEDDMETRPKPRIWSGTATYESDSDDDDKPLHGYSCRGGATTDRDSTGEDEMDDDNPEPDVNPPSS\n",
      "length=<method-wrapper '__len__' of str object at 0x000001ADCF79DE30>\n"
     ]
    }
   ],
   "source": [
    "import requests\n",
    "\n",
    "# Ensembl Plants API URL\n",
    "ensembl_url = \"https://rest.ensembl.org/sequence/id/AT5G63110.1\"\n",
    "\n",
    "# Request parameters\n",
    "params = {\n",
    "    \"type\": \"protein\",\n",
    "    \"content-type\": \"text/plain\"\n",
    "}\n",
    "\n",
    "# Fetch sequence\n",
    "response = requests.get(ensembl_url, params=params, headers={\"Content-Type\": \"text/plain\"})\n",
    "\n",
    "if response.status_code == 200:\n",
    "    print(f\"Protein Sequence:\\n{response.text}\")\n",
    "    print(f\"length={response.text.__len__}\")\n",
    "else:\n",
    "    print(f\"Error fetching sequence: {response.status_code}\")\n"
   ]
  },
  {
   "cell_type": "code",
   "execution_count": 11,
   "metadata": {},
   "outputs": [
    {
     "data": {
      "text/plain": [
       "True"
      ]
     },
     "execution_count": 11,
     "metadata": {},
     "output_type": "execute_result"
    }
   ],
   "source": [
    "len(response.text)\n",
    "\"MEADESGISLPSGPDGRKRRVSYFYEPTIGDYYYGQGHPMKPHRIRMAHSLIIHYHLHRRLEISRPSLADASDIGRFHSPEYVDFLASVSPESMGDPSAARNLRRFNVGEDCPVFDGLFDFCRASAGGSIGAAVKLNRQDADIAINWGGGLHHAKKSEASGFCYVNDIVLGILELLKMFKRVLYIDIDVHHGDGVEEAFYTTDRVMTVSFHKFGDFFPGTGHIRDVGAEKGKYYALNVPLNDGMDDESFRSLFRPLIQKVMEVYQPEAVVLQCGADSLSGDRLGCFNLSVKGHADCLRFLRSYNVPLMVLGGGGYTIRNVARCWCYETAVAVGVEPDNKLPYNEYFEYFGPDYTLHVDPSPMENLNTPKDMERIRNTLLEQLSGLIHAPSVQFQHTPPVNRVLDEPEDDMETRPKPRIWSGTATYESDSDDDDKPLHGYSCRGGATTDRDSTGEDEMDDDNPEPDVNPPSS\"==response.text"
   ]
  }
 ],
 "metadata": {
  "kernelspec": {
   "display_name": "base",
   "language": "python",
   "name": "python3"
  },
  "language_info": {
   "codemirror_mode": {
    "name": "ipython",
    "version": 3
   },
   "file_extension": ".py",
   "mimetype": "text/x-python",
   "name": "python",
   "nbconvert_exporter": "python",
   "pygments_lexer": "ipython3",
   "version": "3.12.7"
  }
 },
 "nbformat": 4,
 "nbformat_minor": 2
}
