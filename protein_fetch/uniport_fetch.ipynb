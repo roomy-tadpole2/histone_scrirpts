{
 "cells": [
  {
   "cell_type": "code",
   "execution_count": 1,
   "metadata": {},
   "outputs": [
    {
     "data": {
      "text/plain": [
       "{'UniProt ID': 'Q9FJE8',\n",
       " 'Protein Name': 'Probable histone H2A.7',\n",
       " 'Gene Name': 'N/A',\n",
       " 'Protein Length': 150,\n",
       " 'Annotation Score': 5.0,\n",
       " 'Protein Sequence': 'MESTGKVKKAFGGRKPPGAPKTKSVSKSMKAGLQFPVGRITRFLKKGRYAQRLGGGAPVYMAAVLEYLAAEVLELAGNAARDNKKSRIIPRHLLLAIRNDEELGKLLSGVTIAHGGVLPNINSVLLPKKSATKPAEEKATKSPVKSPKKA'}"
      ]
     },
     "metadata": {},
     "output_type": "display_data"
    },
    {
     "name": "stdout",
     "output_type": "stream",
     "text": [
      "Results:\n",
      "  UniProt ID: Q9FJE8\n",
      "  Protein Name: Probable histone H2A.7\n",
      "  Gene Name: N/A\n",
      "  Protein Length: 150\n",
      "  Annotation Score: 5.0\n",
      "  Protein Sequence: MESTGKVKKAFGGRKPPGAPKTKSVSKSMKAGLQFPVGRITRFLKKGRYAQRLGGGAPVYMAAVLEYLAAEVLELAGNAARDNKKSRIIPRHLLLAIRNDEELGKLLSGVTIAHGGVLPNINSVLLPKKSATKPAEEKATKSPVKSPKKA\n",
      "\n"
     ]
    }
   ],
   "source": [
    "import requests\n",
    "\n",
    "def fetch_protein_data(query):\n",
    "\n",
    "    base_url = \"https://rest.uniprot.org/uniprotkb/search\"\n",
    "    params = {\"query\": query,\"format\": \"json\",\"size\": 100}\n",
    "    \n",
    "    response = requests.get(base_url, params=params)\n",
    "\n",
    "    if response.status_code == 200:\n",
    "\n",
    "        data = response.json()\n",
    "        results = data.get(\"results\", [])\n",
    "        \n",
    "        if not results: return {\"error\": \"No protein data found for the given query.\"}\n",
    "\n",
    "        highest_annotation_result = None\n",
    "        highest_annotation_score = -1\n",
    "        \n",
    "        for result in results:\n",
    "\n",
    "            annotation_score = result.get(\"annotationScore\", 0)\n",
    "\n",
    "            if annotation_score > highest_annotation_score:\n",
    "                highest_annotation_score = annotation_score\n",
    "                highest_annotation_result = result\n",
    "        \n",
    "        result = highest_annotation_result\n",
    "        result = {\n",
    "            \"UniProt ID\": result.get(\"primaryAccession\", \"N/A\"),\n",
    "            \"Protein Name\": result.get(\"proteinDescription\", {}).get(\"recommendedName\", {}).get(\"fullName\", {}).get(\"value\", \"N/A\"),\n",
    "            \"Gene Name\": result.get(\"genes\", [{}])[0].get(\"geneName\", {}).get(\"value\", \"N/A\"),\n",
    "            \"Protein Length\": result.get(\"sequence\", {}).get(\"length\", \"N/A\"),\n",
    "            \"Annotation Score\": result.get(\"annotationScore\", \"N/A\"),\n",
    "            \"Protein Sequence\": result.get(\"sequence\", {}).get(\"value\", \"N/A\")\n",
    "        }\n",
    "        return result\n",
    "    \n",
    "    else:\n",
    "        return {\n",
    "            \"error\": f\"Failed to fetch data. HTTP Status Code: {response.status_code}\",\n",
    "            \"response_text\": response.text\n",
    "        }\n",
    "\n",
    "query = \"AT4G40030.2\"\n",
    "query = \"AT5G59870.1\"\n",
    "result = fetch_protein_data(query)\n",
    "\n",
    "display(result)\n",
    "\n",
    "# Print all results\n",
    "if \"error\" in result:\n",
    "    print(result[\"error\"])\n",
    "    if \"response_text\" in result:\n",
    "        print(f\"API Response: {result['response_text']}\")\n",
    "else:\n",
    "    print(\"Results:\")\n",
    "    for key, value in result.items():\n",
    "        print(f\"  {key}: {value}\")\n",
    "    print()\n",
    "    "
   ]
  },
  {
   "cell_type": "code",
   "execution_count": 2,
   "metadata": {},
   "outputs": [
    {
     "name": "stdout",
     "output_type": "stream",
     "text": [
      "pulling protein information from https://rest.uniprot.org/uniprotkb/search...\n",
      "now dealing with sheet efs all\n"
     ]
    },
    {
     "name": "stderr",
     "output_type": "stream",
     "text": [
      "2349it [43:47,  1.12s/it]\n"
     ]
    },
    {
     "name": "stdout",
     "output_type": "stream",
     "text": [
      "pulling protein information from https://rest.uniprot.org/uniprotkb/search...\n",
      "now dealing with sheet efs H3K36me3抗体\n"
     ]
    },
    {
     "name": "stderr",
     "output_type": "stream",
     "text": [
      "1512it [00:00, 34201.73it/s]\n"
     ]
    },
    {
     "name": "stdout",
     "output_type": "stream",
     "text": [
      "pulling protein information from https://rest.uniprot.org/uniprotkb/search...\n",
      "now dealing with sheet efs 肽段\n"
     ]
    },
    {
     "name": "stderr",
     "output_type": "stream",
     "text": [
      "1422it [00:00, 31809.43it/s]\n"
     ]
    },
    {
     "name": "stdout",
     "output_type": "stream",
     "text": [
      "pulling protein information from https://rest.uniprot.org/uniprotkb/search...\n",
      "now dealing with sheet WT all\n"
     ]
    },
    {
     "name": "stderr",
     "output_type": "stream",
     "text": [
      "385it [11:48,  1.79s/it]"
     ]
    },
    {
     "name": "stdout",
     "output_type": "stream",
     "text": [
      "An error occurred when query 1st: HTTPSConnectionPool(host='rest.uniprot.org', port=443): Max retries exceeded with url: /uniprotkb/search?query=AT2G33450.1&format=json&size=100 (Caused by SSLError(SSLEOFError(8, '[SSL: UNEXPECTED_EOF_WHILE_READING] EOF occurred in violation of protocol (_ssl.c:1000)')))\n",
      "current index=385\n",
      "try second time\n"
     ]
    },
    {
     "name": "stderr",
     "output_type": "stream",
     "text": [
      "495it [15:12,  1.61s/it]"
     ]
    },
    {
     "name": "stdout",
     "output_type": "stream",
     "text": [
      "An error occurred when query 1st: HTTPSConnectionPool(host='rest.uniprot.org', port=443): Max retries exceeded with url: /uniprotkb/search?query=AT1G20960.2&format=json&size=100 (Caused by SSLError(SSLEOFError(8, '[SSL: UNEXPECTED_EOF_WHILE_READING] EOF occurred in violation of protocol (_ssl.c:1000)')))\n",
      "current index=495\n",
      "try second time\n"
     ]
    },
    {
     "name": "stderr",
     "output_type": "stream",
     "text": [
      "1849it [31:56,  1.04s/it]\n"
     ]
    },
    {
     "name": "stdout",
     "output_type": "stream",
     "text": [
      "pulling protein information from https://rest.uniprot.org/uniprotkb/search...\n",
      "now dealing with sheet WT H3K36me3抗体\n"
     ]
    },
    {
     "name": "stderr",
     "output_type": "stream",
     "text": [
      "1158it [00:00, 31435.29it/s]\n"
     ]
    },
    {
     "name": "stdout",
     "output_type": "stream",
     "text": [
      "pulling protein information from https://rest.uniprot.org/uniprotkb/search...\n",
      "now dealing with sheet WT 肽段\n"
     ]
    },
    {
     "name": "stderr",
     "output_type": "stream",
     "text": [
      "1185it [00:00, 30940.88it/s]\n"
     ]
    },
    {
     "name": "stdout",
     "output_type": "stream",
     "text": [
      "all sheets have been exported successfully\n",
      "the first error in last run is AT1G26630.1\n"
     ]
    }
   ],
   "source": [
    "import pandas as pd\n",
    "from tqdm import tqdm  \n",
    "\n",
    "file_path = '..\\\\data\\\\MS_data_efs+WT.xlsx' \n",
    "\n",
    "MS_source_data = pd.ExcelFile(file_path)\n",
    "\n",
    "row_names = ['Locus', 'description', 'MS_detect_times', \n",
    "            'Uniprot_ID', 'Protein_Name', 'seq_length', 'Protein_sequence'] \n",
    "\n",
    "result_sheets = {}\n",
    "\n",
    "new_row_names = ['Uniprot_ID', 'Protein_Name', 'seq_length', 'Protein_sequence']\n",
    "\n",
    "uniprot_col_name = {\n",
    "    'Uniprot_ID': 'UniProt ID',\n",
    "    'Protein_Name': 'Protein Name',\n",
    "    'seq_length': 'Protein Length',\n",
    "    'Protein_sequence': 'Protein Sequence'\n",
    "}\n",
    "slot = -1\n",
    "Ms_lower_bound = [2, 10, 10, 2, 10, 10]\n",
    "\n",
    "for sheet_name in MS_source_data.sheet_names:\n",
    "\n",
    "    print(\"pulling protein information from https://rest.uniprot.org/uniprotkb/search...\")\n",
    "    print(f\"now dealing with sheet {sheet_name}\")\n",
    "    df = pd.read_excel(MS_source_data, sheet_name=sheet_name, header = None)\n",
    "\n",
    "    for name in new_row_names: df[name] = None\n",
    "    \n",
    "    df.columns = row_names\n",
    "    fetch_result = {}\n",
    "    slot += 1\n",
    "    \n",
    "    for index, row in tqdm(df.iterrows()):\n",
    "        if (row['MS_detect_times']>=Ms_lower_bound[slot]):\n",
    "            try:\n",
    "                fetch_result = fetch_protein_data(row['Locus'])\n",
    "            except Exception as e1: \n",
    "                print(f\"An error occurred when query 1st: {e1}\")\n",
    "                print(f\"current index={index}\")\n",
    "                print(\"try second time\")\n",
    "                try:\n",
    "                    fetch_result = fetch_protein_data(row['Locus'])\n",
    "                except Exception as e2: \n",
    "                    print(f\"An error occurred when query 2nd: {e2}\")\n",
    "                    print(f\"current index={index}\")\n",
    "                    print(\"query failed\")\n",
    "                    display(row)\n",
    "\n",
    "            for item_name in new_row_names:\n",
    "                df.loc[index, item_name] = fetch_result.get(uniprot_col_name[item_name], 'None')\n",
    "\n",
    "    result_sheets[sheet_name] = df\n",
    "\n",
    "with pd.ExcelWriter('..\\\\result\\\\MS_data_annotation_2.xlsx', engine='openpyxl') as writer:  \n",
    "    for sheet_name, df in result_sheets.items():\n",
    "        df.to_excel(writer, sheet_name=sheet_name, index=False)\n",
    "\n",
    "print(\"all sheets have been exported successfully\")\n",
    "print(\"the first error in last run is AT1G26630.1\")"
   ]
  }
 ],
 "metadata": {
  "kernelspec": {
   "display_name": "base",
   "language": "python",
   "name": "python3"
  },
  "language_info": {
   "codemirror_mode": {
    "name": "ipython",
    "version": 3
   },
   "file_extension": ".py",
   "mimetype": "text/x-python",
   "name": "python",
   "nbconvert_exporter": "python",
   "pygments_lexer": "ipython3",
   "version": "3.12.7"
  }
 },
 "nbformat": 4,
 "nbformat_minor": 2
}
