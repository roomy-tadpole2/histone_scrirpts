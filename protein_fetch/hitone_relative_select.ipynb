{
 "cells": [
  {
   "cell_type": "code",
   "execution_count": 1,
   "metadata": {},
   "outputs": [
    {
     "name": "stdout",
     "output_type": "stream",
     "text": [
      "search for histone relative data in sheet efs all\n",
      "search for histone relative data in sheet efs H3K36me3抗体\n",
      "search for histone relative data in sheet efs 肽段\n",
      "search for histone relative data in sheet WT all\n",
      "search for histone relative data in sheet WT H3K36me3抗体\n",
      "search for histone relative data in sheet WT 肽段\n",
      "done\n"
     ]
    }
   ],
   "source": [
    "import pandas as pd\n",
    "\n",
    "file_path = '..\\\\result\\\\MS_data_annotation_2.xlsx' \n",
    "\n",
    "MS_annotation_data = pd.ExcelFile(file_path)\n",
    "\n",
    "histone_relative_data = {}\n",
    "histone_relative_keywords = {'Histone', 'histone'}\n",
    "\n",
    "for sheet_name in MS_annotation_data.sheet_names:\n",
    "\n",
    "    print(f\"search for histone relative data in sheet {sheet_name}\")\n",
    "    df = pd.read_excel(MS_annotation_data, sheet_name=sheet_name)\n",
    "    df_prot_name = df['Protein_Name']\n",
    "    mask = [False] * df.shape[0]\n",
    "\n",
    "    for index, row in df.iterrows():\n",
    "        keywords_detected_flag = False\n",
    "        for keyword in histone_relative_keywords:\n",
    "            if (keyword in str(row['Protein_Name'])):\n",
    "                keywords_detected_flag = True\n",
    "                break\n",
    "        mask[index] = keywords_detected_flag\n",
    "    \n",
    "    df_histone_relative = df[mask]\n",
    "    histone_relative_data[sheet_name] = df_histone_relative\n",
    "\n",
    "with pd.ExcelWriter('..\\\\result\\\\MS_data_histone_relative_2+.xlsx', engine='openpyxl') as writer:  \n",
    "    for sheet_name, df in histone_relative_data.items():\n",
    "        df.to_excel(writer, sheet_name=sheet_name, index=False)\n",
    "print(\"done\")"
   ]
  }
 ],
 "metadata": {
  "kernelspec": {
   "display_name": "base",
   "language": "python",
   "name": "python3"
  },
  "language_info": {
   "codemirror_mode": {
    "name": "ipython",
    "version": 3
   },
   "file_extension": ".py",
   "mimetype": "text/x-python",
   "name": "python",
   "nbconvert_exporter": "python",
   "pygments_lexer": "ipython3",
   "version": "3.12.7"
  }
 },
 "nbformat": 4,
 "nbformat_minor": 2
}
