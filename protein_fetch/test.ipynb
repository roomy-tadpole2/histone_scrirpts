{
 "cells": [
  {
   "cell_type": "code",
   "execution_count": 2,
   "metadata": {},
   "outputs": [
    {
     "name": "stdout",
     "output_type": "stream",
     "text": [
      "An error occurred: division by zero\n",
      "Execution completed.\n"
     ]
    }
   ],
   "source": [
    "try:  \n",
    "    # Code that may raise an exception  \n",
    "    result = 10 / 0  # Example of code that raises a ZeroDivisionError  \n",
    "except Exception as e:  \n",
    "    # Handle any exception  \n",
    "    print(f\"An error occurred: {e}\")  \n",
    "else:  \n",
    "    # This block runs if no exceptions were raised  \n",
    "    print(f\"Result: {result}\")  \n",
    "finally:  \n",
    "    # This block runs no matter what  \n",
    "    print(\"Execution completed.\")"
   ]
  }
 ],
 "metadata": {
  "kernelspec": {
   "display_name": "base",
   "language": "python",
   "name": "python3"
  },
  "language_info": {
   "codemirror_mode": {
    "name": "ipython",
    "version": 3
   },
   "file_extension": ".py",
   "mimetype": "text/x-python",
   "name": "python",
   "nbconvert_exporter": "python",
   "pygments_lexer": "ipython3",
   "version": "3.12.7"
  }
 },
 "nbformat": 4,
 "nbformat_minor": 2
}
